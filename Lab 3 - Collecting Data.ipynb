{
 "cells": [
  {
   "cell_type": "markdown",
   "metadata": {},
   "source": [
    "# Lab 3: Collecting Data"
   ]
  },
  {
   "cell_type": "code",
   "execution_count": 1,
   "metadata": {
    "collapsed": false
   },
   "outputs": [],
   "source": [
    "import numpy as np\n",
    "import ugradio\n",
    "from ugradio.timing import nch\n",
    "import time\n",
    "from __future__ import division\n",
    "from astropy import units as u\n",
    "from astropy.coordinates import SkyCoord"
   ]
  },
  {
   "cell_type": "markdown",
   "metadata": {},
   "source": [
    "## Cygnus Coordinates"
   ]
  },
  {
   "cell_type": "code",
   "execution_count": 2,
   "metadata": {
    "collapsed": false
   },
   "outputs": [
    {
     "name": "stdout",
     "output_type": "stream",
     "text": [
      "<SkyCoord (ICRS): (ra, dec) in deg\n",
      "    (299.86815417, 40.73391667)>\n"
     ]
    }
   ],
   "source": [
    "# convert from sexagesimal notation to degree notation\n",
    "\n",
    "c = SkyCoord('19h59m28.357s', '+40d44m02.10s', frame='icrs')\n",
    "print(c)"
   ]
  },
  {
   "cell_type": "code",
   "execution_count": 7,
   "metadata": {
    "collapsed": false
   },
   "outputs": [],
   "source": [
    "def cyg_altaz():\n",
    "    \"\"\"Determines altitude and azimuth of Cygnus at current time.\"\"\"\n",
    "    ra_deg = 299.86815417\n",
    "    dec_deg = 40.733916679\n",
    "    ra_now, dec_now = ugradio.coord.precess(ra_deg, dec_deg)\n",
    "    cyg_alt, cyg_az = ugradio.coord.get_altaz(ra_now, dec_now)\n",
    "    return cyg_alt, cyg_az"
   ]
  },
  {
   "cell_type": "code",
   "execution_count": 4,
   "metadata": {
    "collapsed": true
   },
   "outputs": [],
   "source": [
    "def cyg_altaz_jd(jd):\n",
    "    \"\"\"Determines altitude and azimuth of Cygnus for a given Julian date.\"\"\"\n",
    "    ra_deg = 299.86815417\n",
    "    dec_deg = 40.733916679\n",
    "    ra_now, dec_now = ugradio.coord.precess(ra_deg, dec_deg, jd)\n",
    "    cyg_alt, cyg_az = ugradio.coord.get_altaz(ra_now, dec_now, jd)\n",
    "    return cyg_alt, cyg_az"
   ]
  },
  {
   "cell_type": "code",
   "execution_count": 8,
   "metadata": {
    "collapsed": false
   },
   "outputs": [
    {
     "name": "stdout",
     "output_type": "stream",
     "text": [
      "Altitude, Azimuth of Cygnus at...\n",
      "00:00 : (-3.9167660071595396, 28.043422048475286)\n",
      "02:00 : (10.397201609809011, 45.69189885802968)\n",
      "04:00 : (29.251433117373008, 59.152348379801836)\n",
      "06:00 : (50.64466437399524, 69.11696157082382)\n",
      "08:00 : (73.23641220258789, 73.33209025263035)\n",
      "10:00 : (82.68805161365756, 296.10464457852777)\n",
      "12:00 : (60.11675353221777, 287.893553917219)\n",
      "14:00 : (38.07402771817476, 296.21930388044797)\n",
      "16:00 : (17.95143751898608, 308.1540143067999)\n",
      "18:00 : (1.4152620525157096, 323.9442837949314)\n",
      "20:00 : (-9.05737845030826, 344.11900696991125)\n",
      "22:00 : (-10.902333677157365, 7.062075043151632)\n",
      "22:00 : (-3.547251247049448, 28.693070247455637)\n"
     ]
    }
   ],
   "source": [
    "# for Monday, March 18, 2019\n",
    "\n",
    "jd0 = 2458560.79167\n",
    "jd2 = 2458560.87500\n",
    "jd4 = 2458560.95833\n",
    "jd6 = 2458561.04167\n",
    "jd8 = 2458561.12500\n",
    "jd10 = 2458561.20833\n",
    "jd12 = 2458561.29167\n",
    "jd14 = 2458561.37500\n",
    "jd16 = 2458561.45833\n",
    "jd18 = 2458561.54167\n",
    "jd20 = 2458561.62500\n",
    "jd22 = 2458561.70833\n",
    "jd24 = 2458561.79167\n",
    "\n",
    "print 'Altitude, Azimuth of Cygnus at...'\n",
    "print '00:00 :', cyg_altaz_jd(jd0)\n",
    "print '02:00 :', cyg_altaz_jd(jd2)\n",
    "print '04:00 :', cyg_altaz_jd(jd4)\n",
    "print '06:00 :', cyg_altaz_jd(jd6)\n",
    "print '08:00 :', cyg_altaz_jd(jd8)\n",
    "print '10:00 :', cyg_altaz_jd(jd10)\n",
    "print '12:00 :', cyg_altaz_jd(jd12)\n",
    "print '14:00 :', cyg_altaz_jd(jd14)\n",
    "print '16:00 :', cyg_altaz_jd(jd16)\n",
    "print '18:00 :', cyg_altaz_jd(jd18)\n",
    "print '20:00 :', cyg_altaz_jd(jd20)\n",
    "print '22:00 :', cyg_altaz_jd(jd22)\n",
    "print '22:00 :', cyg_altaz_jd(jd24)\n",
    "\n",
    "# times in PDT"
   ]
  },
  {
   "cell_type": "markdown",
   "metadata": {},
   "source": [
    "Cygnus \"rises\" a little after midnight and \"sets\" just after 6:00 pm. However, the hills to the North-East (0 < azimuth < 90) may obscure our view for altitudes less than about 30 degrees, and Evans in the North-West (315 < azimuth < 360) may obscure our view for altitudes less than 45 degrees. Our real viewing window is then approximately from 2:00 am to 2:00 pm. Note the measurements for Evans are relative to the west detector."
   ]
  },
  {
   "cell_type": "markdown",
   "metadata": {},
   "source": [
    "## The Moon"
   ]
  },
  {
   "cell_type": "markdown",
   "metadata": {},
   "source": [
    "The Moon rises at 4:46 pm on Monday, March 18 and sets at 6:40 am on the next day. The next full moon is on March 20.\n",
    "\n",
    "Moon Calendar: https://www.timeanddate.com/moon/usa/berkeley"
   ]
  },
  {
   "cell_type": "markdown",
   "metadata": {},
   "source": [
    "## Observing with the Interferometer"
   ]
  },
  {
   "cell_type": "code",
   "execution_count": 3,
   "metadata": {
    "collapsed": true
   },
   "outputs": [],
   "source": [
    "def diff(a,b):\n",
    "    return np.abs(a-b)"
   ]
  },
  {
   "cell_type": "code",
   "execution_count": 6,
   "metadata": {
    "collapsed": true
   },
   "outputs": [],
   "source": [
    "def sun_coords():\n",
    "    \"\"\"Determines altitude and azimuth of the Sun in current time.\"\"\"\n",
    "    jd = ugradio.timing.julian_date()\n",
    "    ra,dec = ugradio.coord.sunpos(jd)\n",
    "    alt,az = ugradio.coord.get_altaz(ra,dec,jd,nch.lat,nch.lon,nch.alt)\n",
    "    return (alt,az)"
   ]
  },
  {
   "cell_type": "code",
   "execution_count": 8,
   "metadata": {
    "collapsed": false
   },
   "outputs": [
    {
     "name": "stdout",
     "output_type": "stream",
     "text": [
      "pointing dishes \n",
      "first pointing done \n",
      "target:41.6184508983,141.825481686\n",
      "west pointed :41.6215820312,141.840039062\n",
      "east pointed :41.572265625,141.814941406\n",
      "target:41.6382965412,141.87279837\n",
      "west pointed :41.5776367188,141.840039062\n",
      "east pointed :41.66015625,141.880859375\n",
      "target:41.6558132649,141.914628794\n",
      "west pointed :41.5776367188,141.862011719\n",
      "east pointed :41.6381835938,141.902832031\n",
      "target:41.6711762631,141.95136752\n",
      "west pointed :41.5776367188,141.971875\n",
      "east pointed :41.66015625,141.924804688\n",
      "observing successful\n"
     ]
    }
   ],
   "source": [
    "DT = 5\n",
    "tol = 1\n",
    "\n",
    "alt, az = sun_alt()\n",
    "\n",
    "ifm = ugradio.interf.Interferometer()\n",
    "print(\"pointing dishes \")\n",
    "ifm.point(alt,az)\n",
    "print(\"first pointing done \")\n",
    "\n",
    "MaxT = ugradio.timing.julian_date() + 0.00001157*30 # julian_date measured in days, 0.00001157 is one second \n",
    "\n",
    "\n",
    "try:\n",
    "\n",
    "    while True:\n",
    "        if ugradio.timing.julian_date()>MaxT:\n",
    "            print(\"observing successful\")\n",
    "            break\n",
    "        alt,az = sun_alt()\n",
    "        ifm.point(alt,az)\n",
    "        pointing = ifm.get_pointing()\n",
    "        w_alt,w_az = pointing[\"ant_w\"]\n",
    "        e_alt,e_az = pointing[\"ant_e\"]\n",
    "        \n",
    "        print(\"target:\"+ str(alt)+\",\"+str(az))\n",
    "        print(\"west pointed :\"+ str(w_alt)+\",\"+str(w_az))\n",
    "        print(\"east pointed :\"+ str(e_alt)+\",\"+str(e_az))\n",
    "        if (diff(alt,e_alt)>tol or\n",
    "            diff(az,e_az)>tol or\n",
    "            diff(alt,w_alt)>tol or\n",
    "            diff(az,w_az)>tol ):\n",
    "            \n",
    "            raise Exception (\"pointing error\")\n",
    "        time.sleep(DT)\n",
    "\n",
    "except Exception as e:\n",
    "    print(e)\n",
    "    \n",
    "finally:\n",
    "    ifm.stow()\n"
   ]
  },
  {
   "cell_type": "code",
   "execution_count": 9,
   "metadata": {
    "collapsed": false
   },
   "outputs": [
    {
     "name": "stdout",
     "output_type": "stream",
     "text": [
      "target:41.7398160506,142.116102617\n",
      "west pointed :41.9731445312,142.631054688\n",
      "east pointed :41.5502929688,142.3203125\n"
     ]
    }
   ],
   "source": [
    "#point to the location of the sun\n",
    "ifm = ugradio.interf.Interferometer()\n",
    "alt,az = sun_coords()\n",
    "ifm.point(alt,az)\n",
    "pointing = ifm.get_pointing()\n",
    "w_alt,w_az = pointing[\"ant_w\"]\n",
    "e_alt,e_az = pointing[\"ant_e\"]\n",
    "print(\"target:\"+ str(alt)+\",\"+str(az))\n",
    "print(\"west pointed :\"+ str(w_alt)+\",\"+str(w_az))\n",
    "print(\"east pointed :\"+ str(e_alt)+\",\"+str(e_az))"
   ]
  },
  {
   "cell_type": "code",
   "execution_count": 5,
   "metadata": {
    "collapsed": true
   },
   "outputs": [],
   "source": [
    "hpm = ugradio.hp_multi.HP_Multimeter()\n",
    "hpm.start_recording??"
   ]
  },
  {
   "cell_type": "code",
   "execution_count": 17,
   "metadata": {
    "collapsed": true
   },
   "outputs": [],
   "source": [
    "hpm = ugradio.hp_multi.HP_Multimeter()\n",
    "#hpm.read_voltage()\n",
    "hpm.start_recording(1, tries = 100)\n",
    "time.sleep(120) # locally wait for 120 seconds (have to exceed the total processing time)\n",
    "hpm.end_recording()\n",
    "#hpm.get_recording_status()\n",
    "data, times = hpm.get_recording_data()\n",
    "np.savez(\"sun-data\",volts = data, unitimes = times)"
   ]
  },
  {
   "cell_type": "code",
   "execution_count": 16,
   "metadata": {
    "collapsed": false
   },
   "outputs": [
    {
     "name": "stdout",
     "output_type": "stream",
     "text": [
      "[0.000432 0.000435 0.00044  0.000438 0.00044  0.000432 0.000433 0.000429\n",
      " 0.000431 0.000436 0.000437 0.000436 0.000438 0.000434 0.000437 0.000424\n",
      " 0.00043  0.000425 0.000439 0.000435 0.000431 0.000433 0.000449 0.000439\n",
      " 0.000442 0.000442 0.000439 0.000428 0.000436 0.000439 0.000438 0.000422\n",
      " 0.000436 0.000435 0.000442 0.000432 0.000428 0.000431 0.00042  0.000418\n",
      " 0.000422 0.000415 0.000425 0.000437 0.000437 0.000431 0.00043  0.000435\n",
      " 0.000436 0.000428 0.000427 0.000438 0.000433 0.000447 0.00042  0.00043\n",
      " 0.000438 0.000438 0.000442 0.000442 0.000438 0.000434 0.000432 0.000424\n",
      " 0.00043  0.000427 0.00043  0.000433 0.000439 0.00045  0.000458 0.000448\n",
      " 0.000443 0.000445 0.000432 0.000439 0.000443 0.00044  0.000441 0.000438\n",
      " 0.000446 0.000449 0.000453 0.000445 0.000447 0.000451 0.000447 0.000449\n",
      " 0.000459 0.000449 0.000426 0.000439 0.000441 0.000434 0.000436 0.000438\n",
      " 0.000442 0.000438 0.000444 0.000448 0.000451 0.000451 0.000452 0.000444\n",
      " 0.00044  0.000441 0.000453 0.000455 0.000441 0.000441 0.000442 0.000427\n",
      " 0.000431 0.000426 0.00043  0.000451 0.00045  0.00045  0.000448 0.000445\n",
      " 0.000428]\n"
     ]
    }
   ],
   "source": [
    "print(data)"
   ]
  },
  {
   "cell_type": "code",
   "execution_count": 18,
   "metadata": {
    "collapsed": true
   },
   "outputs": [],
   "source": [
    "ifm.stow()\n",
    "\n",
    "# always stow detectors when done observing"
   ]
  }
 ],
 "metadata": {
  "kernelspec": {
   "display_name": "Python 2",
   "language": "python",
   "name": "python2"
  },
  "language_info": {
   "codemirror_mode": {
    "name": "ipython",
    "version": 2
   },
   "file_extension": ".py",
   "mimetype": "text/x-python",
   "name": "python",
   "nbconvert_exporter": "python",
   "pygments_lexer": "ipython2",
   "version": "2.7.12"
  }
 },
 "nbformat": 4,
 "nbformat_minor": 1
}
