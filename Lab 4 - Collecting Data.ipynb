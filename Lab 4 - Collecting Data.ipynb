{
 "cells": [
  {
   "cell_type": "markdown",
   "metadata": {},
   "source": [
    "# Lab 4: Collecting Data from Leuschner"
   ]
  },
  {
   "cell_type": "code",
   "execution_count": null,
   "metadata": {
    "collapsed": true
   },
   "outputs": [],
   "source": [
    "# ssh -XY radiolab@leuschner.berkeley.edu -p 31\n",
    "# password = Cud4b4ck\n",
    "# cd anoising"
   ]
  },
  {
   "cell_type": "code",
   "execution_count": 1,
   "metadata": {
    "collapsed": true
   },
   "outputs": [],
   "source": [
    "import ugradio\n",
    "import numpy as np\n",
    "import astropy\n",
    "import pyfits\n",
    "from ugradio import nch\n",
    "from astropy.io import fits\n",
    "from ugradio import agilent\n",
    "from ugradio import leo\n",
    "from ugradio import leusch\n",
    "import leuschner"
   ]
  },
  {
   "cell_type": "markdown",
   "metadata": {},
   "source": [
    "## Telescope Controls"
   ]
  },
  {
   "cell_type": "code",
   "execution_count": null,
   "metadata": {
    "collapsed": true
   },
   "outputs": [],
   "source": [
    "tele = ugradio.leusch.LeuschTelescope() # interface for controlling the Leuschner Telescope\n",
    "tele.get_pointing()  # returns the current (alt,az) of the dish in degrees\n",
    "tele.point(alt,az) # moves the telescope to a specified alt, az in degrees\n",
    "tele.main() # moves the telescope to maintenance position"
   ]
  },
  {
   "cell_type": "markdown",
   "metadata": {},
   "source": [
    "## Noise"
   ]
  },
  {
   "cell_type": "code",
   "execution_count": null,
   "metadata": {
    "collapsed": true
   },
   "outputs": [],
   "source": [
    "LeuschNoise = ugradio.leusch.LeuschNoise() # interface to the noise diode\n",
    "LeuschNoise.on()\n",
    "LeuschNoise.off()"
   ]
  },
  {
   "cell_type": "markdown",
   "metadata": {},
   "source": [
    "## Local Oscillator (LO)"
   ]
  },
  {
   "cell_type": "code",
   "execution_count": null,
   "metadata": {
    "collapsed": true
   },
   "outputs": [],
   "source": [
    "lo = ugradio.agilent.SynthDirect() # interface to the LO\n",
    "lo.get_frequency()\n",
    "lo.get_amplitude()\n",
    "lo.set_frequency(633, 'MHz')\n",
    "lo.set_amplitude(10, 'dBm')\n",
    "\n",
    "synth = ugradio.agilent.SynthClient(host='127.0.0.1') # idk what this does"
   ]
  },
  {
   "cell_type": "markdown",
   "metadata": {},
   "source": [
    "## Spectrometer Controls"
   ]
  },
  {
   "cell_type": "code",
   "execution_count": 2,
   "metadata": {
    "collapsed": true
   },
   "outputs": [],
   "source": [
    "spec = leuschner.Spectrometer('10.0.1.2') # interface to the spectrometer at the specified IP address\n",
    "spec.check_connected() # checks that you are connected and ready to take data\n",
    "spec.int_time() # returns how long each spectrum is integrated for\n",
    "spec.read_spec('name.fits', N, (ra, dec), 'eq') # reads N spectra and stores output in a fits file, writing ra/dec coordinates into the header of the file. Note that this does NOT point the telescope.\n",
    "# e.g. spec.read_spec('data_apr20.fits', 15,(50, 60),'eq')"
   ]
  },
  {
   "cell_type": "markdown",
   "metadata": {},
   "source": [
    "## For Loops to Point Telescope and Collect Data"
   ]
  },
  {
   "cell_type": "markdown",
   "metadata": {},
   "source": [
    "Note: need to instantiate interfaces tele and spec before running"
   ]
  },
  {
   "cell_type": "code",
   "execution_count": null,
   "metadata": {
    "collapsed": true
   },
   "outputs": [],
   "source": [
    "l = np.arange(l1, l2, 2)\n",
    "b = np.arange(b1, b2, 2)\n",
    "\n",
    "ra_dec = []\n",
    "\n",
    "for i in range(len(l)):\n",
    "    for j in range(len(b)):\n",
    "        galactic = SkyCoord(l[i], b[j], frame='galactic', unit='deg')\n",
    "        icrs = galactic.transform_to('icrs')\n",
    "        ra = icrs.ra.degree\n",
    "        dec = icrs.dec.degree\n",
    "        ra_dec.append([ra, dec])\n",
    "\n",
    "for i in range(len(ra_dec)):\n",
    "    ra = ra_dec[i][0]\n",
    "    dec = ra_dec[i][1]\n",
    "    jd = ugradio.timing.julian_date()\n",
    "    alt, az = ugradio.coord.get_altaz(ra, dec, jd=jd, lat=leo.lat, lon=leo.lon, alt=leo.alt, equinox='J2019')\n",
    "    tele.point(alt, az)\n",
    "    spec.read_spec('data_date_'+str(ra)+'_'+str(dec)+'.fits', 15, (ra, dec), 'eq') # reads 15 spectra"
   ]
  }
 ],
 "metadata": {
  "kernelspec": {
   "display_name": "Python 2",
   "language": "python",
   "name": "python2"
  },
  "language_info": {
   "codemirror_mode": {
    "name": "ipython",
    "version": 2
   },
   "file_extension": ".py",
   "mimetype": "text/x-python",
   "name": "python",
   "nbconvert_exporter": "python",
   "pygments_lexer": "ipython2",
   "version": "2.7.12"
  }
 },
 "nbformat": 4,
 "nbformat_minor": 1
}
