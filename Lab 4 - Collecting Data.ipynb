{
 "cells": [
  {
   "cell_type": "markdown",
   "metadata": {},
   "source": [
    "# Lab 4: Collecting Data from Leuschner"
   ]
  },
  {
   "cell_type": "code",
   "execution_count": null,
   "metadata": {
    "collapsed": true
   },
   "outputs": [],
   "source": [
    "# ssh -XY radiolab@leuschner.berkeley.edu -p 31\n",
    "# password = Cud4b4ck\n",
    "# cd anoising"
   ]
  },
  {
   "cell_type": "code",
   "execution_count": 2,
   "metadata": {
    "collapsed": false
   },
   "outputs": [
    {
     "ename": "ImportError",
     "evalue": "No module named Leuschner",
     "output_type": "error",
     "traceback": [
      "\u001b[0;31m---------------------------------------------------------------------------\u001b[0m",
      "\u001b[0;31mImportError\u001b[0m                               Traceback (most recent call last)",
      "\u001b[0;32m<ipython-input-2-b1acf52c888b>\u001b[0m in \u001b[0;36m<module>\u001b[0;34m()\u001b[0m\n\u001b[1;32m      8\u001b[0m \u001b[0;32mfrom\u001b[0m \u001b[0mugradio\u001b[0m \u001b[0;32mimport\u001b[0m \u001b[0mleo\u001b[0m\u001b[0;34m\u001b[0m\u001b[0m\n\u001b[1;32m      9\u001b[0m \u001b[0;32mfrom\u001b[0m \u001b[0mugradio\u001b[0m \u001b[0;32mimport\u001b[0m \u001b[0mleusch\u001b[0m\u001b[0;34m\u001b[0m\u001b[0m\n\u001b[0;32m---> 10\u001b[0;31m \u001b[0;32mimport\u001b[0m \u001b[0mLeuschner\u001b[0m\u001b[0;34m\u001b[0m\u001b[0m\n\u001b[0m",
      "\u001b[0;31mImportError\u001b[0m: No module named Leuschner"
     ]
    }
   ],
   "source": [
    "import ugradio\n",
    "import numpy as np\n",
    "import astropy\n",
    "import pyfits\n",
    "from ugradio import nch\n",
    "from astropy.io import fits\n",
    "from ugradio import agilent\n",
    "from ugradio import leo\n",
    "from ugradio import leusch\n",
    "import Leuschner"
   ]
  },
  {
   "cell_type": "markdown",
   "metadata": {},
   "source": [
    "## Telescope Controls"
   ]
  },
  {
   "cell_type": "code",
   "execution_count": null,
   "metadata": {
    "collapsed": true
   },
   "outputs": [],
   "source": [
    "tele = ugradio.leusch.LeuschTelescope() # interface for controlling the Leuschner Telescope\n",
    "tele.get_pointing()  # returns the current (alt,az) of the dish in degrees\n",
    "tele.point(alt,az) # moves the telescope to a specified alt, az in degrees\n",
    "tele.main() # moves the telescope to maintenance position"
   ]
  },
  {
   "cell_type": "markdown",
   "metadata": {},
   "source": [
    "## Noise"
   ]
  },
  {
   "cell_type": "code",
   "execution_count": null,
   "metadata": {
    "collapsed": true
   },
   "outputs": [],
   "source": [
    "LeuschNoise = ugradio.leusch.LeuschNoise() # interface to the noise diode\n",
    "LeuschNoise.on()\n",
    "LeuschNoise.off()"
   ]
  },
  {
   "cell_type": "markdown",
   "metadata": {},
   "source": [
    "## Local Oscillator (LO)"
   ]
  },
  {
   "cell_type": "code",
   "execution_count": null,
   "metadata": {
    "collapsed": true
   },
   "outputs": [],
   "source": [
    "lo = ugradio.agilent.SynthDirect() # interface to the LO\n",
    "lo.get_frequency()\n",
    "lo.get_amplitude()\n",
    "lo.set_frequency(633, 'MHz')\n",
    "lo.set_amplitude(10, 'dBm')\n",
    "\n",
    "synth = ugradio.agilent.SynthClient(host='127.0.0.1') # idk what this does"
   ]
  },
  {
   "cell_type": "markdown",
   "metadata": {},
   "source": [
    "## Spectrometer Controls"
   ]
  },
  {
   "cell_type": "code",
   "execution_count": 2,
   "metadata": {
    "collapsed": true
   },
   "outputs": [],
   "source": [
    "spec = leuschner.Spectrometer('10.0.1.2') # interface to the spectrometer at the specified IP address\n",
    "spec.check_connected() # checks that you are connected and ready to take data\n",
    "spec.int_time() # returns how long each spectrum is integrated for\n",
    "spec.read_spec('name.fits', N, (ra, dec), 'eq') # reads N spectra and stores output in a fits file, writing ra/dec coordinates into the header of the file. Note that this does NOT point the telescope.\n",
    "# e.g. spec.read_spec('data_apr20.fits', 15,(50, 60),'eq')"
   ]
  },
  {
   "cell_type": "markdown",
   "metadata": {},
   "source": [
    "## For Loops to Point Telescope and Collect Data"
   ]
  },
  {
   "cell_type": "markdown",
   "metadata": {},
   "source": [
    "Note: replace 1930 with appropriate time"
   ]
  },
  {
   "cell_type": "markdown",
   "metadata": {
    "collapsed": true
   },
   "source": [
    "tele = ugradio.leusch.LeuschTelescope()\n",
    "\n",
    "lo = ugradio.agilent.SynthDirect()\n",
    "lo.set_frequency(710, 'MHz')\n",
    "lo.set_amplitude(10, 'dBm')\n",
    "\n",
    "spec = leuschner.Spectrometer('10.0.1.2')\n",
    "\n",
    "print('system ready')\n",
    "\n",
    "LeuschNoise = ugradio.leusch.LeuschNoise()\n",
    "LeuschNoise.on()\n",
    "\n",
    "l = 115\n",
    "b = 31\n",
    "\n",
    "galactic = SkyCoord(l, b, frame='galactic', unit='deg')\n",
    "icrs = galactic.transform_to('icrs')\n",
    "ra = icrs.ra.degree\n",
    "dec = icrs.dec.degree\n",
    "lat = leo.lat\n",
    "lon = leo.lon\n",
    "alt = leo.alt\n",
    "jd = ugradio.timing.julian_date()\n",
    "t = astropy.time.Time(jd,format='jd')\n",
    "l = astropy.coordinates.EarthLocation(lat=lat*u.deg,lon=lon*u.deg,height = alt*u.m)\n",
    "f = astropy.coordinates.AltAz(obstime=t,location=l)\n",
    "c = astropy.coordinates.SkyCoord(ra, dec, frame='fk5', unit='deg', equinox='J2019')\n",
    "altaz = c.transform_to(f)\n",
    "alt = altaz.alt.deg\n",
    "az = altaz.az.deg\n",
    "tele.point(alt, az)\n",
    "spec.read_spec('noise_on_1930.fits', 15, (ra, dec), 'eq')\n",
    "\n",
    "print('noise on observation complete')\n",
    "\n",
    "LeuschNoise.off()\n",
    "\n",
    "spec.read_spec('noise_off_1930.fits', 15, (ra, dec), 'eq')\n",
    "\n",
    "print('noise off observation complete')\n",
    "\n",
    "\n",
    "l = np.arange(l1, l2, 2)\n",
    "b = np.arange(b1, b2, 2)\n",
    "\n",
    "ra_dec = []\n",
    "\n",
    "for i in range(len(l)):\n",
    "    for j in range(len(b)):\n",
    "        galactic = SkyCoord(l[i], b[j], frame='galactic', unit='deg')\n",
    "        icrs = galactic.transform_to('icrs')\n",
    "        ra = icrs.ra.degree\n",
    "        dec = icrs.dec.degree\n",
    "        jd = ugradio.timing.julian_date()\n",
    "        lat = leo.lat\n",
    "        lon = leo.lon\n",
    "        alt = leo.alt\n",
    "        t = astropy.time.Time(jd,format='jd')\n",
    "        l = astropy.coordinates.EarthLocation(lat=lat*u.deg,lon=lon*u.deg,height = alt*u.m)\n",
    "        f = astropy.coordinates.AltAz(obstime=t,location=l)\n",
    "        c = astropy.coordinates.SkyCoord(ra, dec, frame='fk5', unit='deg', equinox='J2019')\n",
    "        altaz = c.transform_to(f)\n",
    "        alt = altaz.alt.deg\n",
    "        az = altaz.az.deg\n",
    "        tele.point(alt, az)\n",
    "        spec.read_spec('data_date_'+str(ra)+'_'+str(dec)+'.fits', 15, (ra, dec), 'eq')"
   ]
  },
  {
   "cell_type": "markdown",
   "metadata": {
    "collapsed": true
   },
   "source": [
    "tele = ugradio.leusch.LeuschTelescope()\n",
    "\n",
    "lo = ugradio.agilent.SynthDirect()\n",
    "lo.set_frequency(710, 'MHz')\n",
    "lo.set_amplitude(10, 'dBm')\n",
    "\n",
    "spec = leuschner.Spectrometer('10.0.1.2')\n",
    "\n",
    "print('system ready')\n",
    "\n",
    "LeuschNoise = ugradio.leusch.LeuschNoise()\n",
    "LeuschNoise.on()\n",
    "\n",
    "l = 115\n",
    "b = 31\n",
    "\n",
    "galactic = SkyCoord(l, b, frame='galactic', unit='deg')\n",
    "icrs = galactic.transform_to('icrs')\n",
    "ra = icrs.ra.degree\n",
    "dec = icrs.dec.degree\n",
    "lat = leo.lat\n",
    "lon = leo.lon\n",
    "alt = leo.alt\n",
    "jd = ugradio.timing.julian_date()\n",
    "t = astropy.time.Time(jd,format='jd')\n",
    "l = astropy.coordinates.EarthLocation(lat=lat*u.deg,lon=lon*u.deg,height = alt*u.m)\n",
    "f = astropy.coordinates.AltAz(obstime=t,location=l)\n",
    "c = astropy.coordinates.SkyCoord(ra, dec, frame='fk5', unit='deg', equinox='J2019')\n",
    "altaz = c.transform_to(f)\n",
    "alt = altaz.alt.deg\n",
    "az = altaz.az.deg\n",
    "tele.point(alt, az)\n",
    "spec.read_spec('noise_on_1930.fits', 15, (ra, dec), 'eq')\n",
    "\n",
    "print('noise on observation complete')\n",
    "\n",
    "LeuschNoise.off()\n",
    "\n",
    "spec.read_spec('noise_off_1930.fits', 15, (ra, dec), 'eq')\n",
    "\n",
    "print('noise off observation complete')\n",
    "\n",
    "gal = [[115, 31], [115, 33], [117, 31], [117, 33], [119, 31], [119, 33]]\n",
    "\n",
    "for i in range(len(gal)):\n",
    "    l = gal[i][0]\n",
    "    b = gal[i][1]\n",
    "    galactic = SkyCoord(gal[i][0], gal[i][1], frame='galactic', unit='deg')\n",
    "    icrs = galactic.transform_to('icrs')\n",
    "    ra = icrs.ra.degree\n",
    "    dec = icrs.dec.degree\n",
    "    jd = ugradio.timing.julian_date()\n",
    "    lat = leo.lat\n",
    "    lon = leo.lon\n",
    "    alt = leo.alt\n",
    "    t = astropy.time.Time(jd,format='jd')\n",
    "    l = astropy.coordinates.EarthLocation(lat=lat*u.deg,lon=lon*u.deg,height = alt*u.m)\n",
    "    f = astropy.coordinates.AltAz(obstime=t,location=l)\n",
    "    c = astropy.coordinates.SkyCoord(ra, dec, frame='fk5', unit='deg', equinox='J2019')\n",
    "    altaz = c.transform_to(f)\n",
    "    alt = altaz.alt.deg\n",
    "    az = altaz.az.deg\n",
    "    tele.point(alt, az)\n",
    "    spec.read_spec('data_new_1930'+str(ra)+'_'+str(dec)+'.fits', 15, (ra, dec), 'eq')"
   ]
  },
  {
   "cell_type": "markdown",
   "metadata": {
    "collapsed": true
   },
   "source": [
    "Redoing Observations:\n",
    "\n",
    "1:00 -- [119, 25]\n",
    "\n",
    "3:00 -- [115, 19], [115, 21], [117, 19], [117, 21], [117, 23], [117, 25], [119, 19], [119, 21], [119, 23], [121, 23]\n",
    "\n",
    "6:00 -- [121, 21], [123, 21], [123, 23], [125, 21], [125, 23], [127, 17], [127, 19], [127, 21], [127, 23], [129, 15], [129, 17], [129, 19], [129, 21], [129, 23]\n",
    "\n",
    "9:00 -- [127, 25]\n",
    "\n",
    "10:00 -- l (105 to 114), b (15 to 34)\n",
    "\n",
    "11:00 -- [129, 25], [129, 27], [129, 29]\n",
    "\n",
    "12:00 -- l (131 to 160), b (15 to 34)\n",
    "\n",
    "13:00 -- [127, 29]\n",
    "\n",
    "16:00 -- [121, 33], [123, 33], [125, 31], [125, 33], [127, 31], [127, 33], [129, 31], [129, 33]\n",
    "\n",
    "16:30 --  l (105 to 160), b (35 to 50)\n",
    "\n",
    "19:30 -- [115, 31], [115, 33], [117, 31], [117, 33], [119, 31], [119, 33] -- done\n",
    "\n",
    "19:55 -- [121, 31] -- done\n",
    "\n",
    "21:30 -- [119, 29] -- not in range?\n",
    "\n",
    "22:00 -- [115, 23], [115, 25], [115, 27], [115, 29], [117, 27], [117, 29]"
   ]
  }
 ],
 "metadata": {
  "kernelspec": {
   "display_name": "Python 2",
   "language": "python",
   "name": "python2"
  },
  "language_info": {
   "codemirror_mode": {
    "name": "ipython",
    "version": 2
   },
   "file_extension": ".py",
   "mimetype": "text/x-python",
   "name": "python",
   "nbconvert_exporter": "python",
   "pygments_lexer": "ipython2",
   "version": "2.7.12"
  }
 },
 "nbformat": 4,
 "nbformat_minor": 1
}
