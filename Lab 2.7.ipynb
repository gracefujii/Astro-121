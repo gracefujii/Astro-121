{
 "cells": [
  {
   "cell_type": "markdown",
   "metadata": {},
   "source": [
    "# Lab 2.7"
   ]
  },
  {
   "cell_type": "code",
   "execution_count": 8,
   "metadata": {
    "collapsed": true
   },
   "outputs": [],
   "source": [
    "import ugradio\n",
    "import numpy as np\n",
    "%matplotlib notebook\n",
    "import matplotlib.pyplot as plt"
   ]
  },
  {
   "cell_type": "code",
   "execution_count": 43,
   "metadata": {
    "collapsed": true
   },
   "outputs": [],
   "source": [
    "def PS(x, divisor):\n",
    "    \"\"\"Takes in a complex array and outputs a plot of frequency versus power spectrum.\"\"\"\n",
    "\n",
    "    Vsamp = 62.5/divisor\n",
    "    N = 16000\n",
    "    \n",
    "    a = x[:len(x)/2]\n",
    "    b = x[len(x)/2:]\n",
    "    c = a + b * 1j\n",
    "\n",
    "    time = np.linspace(-N/(2*Vsamp),(N/2-1)/Vsamp,N)\n",
    "    \n",
    "    f,fx = ugradio.dft.dft(c[:N],t=time, vsamp=Vsamp)\n",
    "    P = np.abs(fx)**2\n",
    "    plt.plot(f,P)\n",
    "    plt.xlabel(\"Frequency\")\n",
    "    plt.ylabel(\"Power [volt-second^2]\")\n",
    "    plt.show()"
   ]
  },
  {
   "cell_type": "markdown",
   "metadata": {},
   "source": [
    "## Average"
   ]
  },
  {
   "cell_type": "markdown",
   "metadata": {},
   "source": [
    "### Changing First LO\n",
    "\n",
    "LO for upper baseband: 1231 MHz\n",
    "\n",
    "LO for lower baseband: 1229 MHz\n",
    "\n",
    "Power of LO: 13 dBm"
   ]
  },
  {
   "cell_type": "markdown",
   "metadata": {},
   "source": [
    "x = ugradio.pico.capture_data('50mV', divisor=8, dual_mode=True, nsamples=16000, nblocks=1000)\n",
    "\n",
    "np.save('upper_block_n', x)\n",
    "\n",
    "Took data 10 times resulting in 10,000 total blocks. Repeated for lower."
   ]
  },
  {
   "cell_type": "markdown",
   "metadata": {
    "collapsed": false
   },
   "source": [
    "take average power spectrum of nblocks = 1000\n",
    "\n",
    "everything = np.load('upper_block_1.npy')\n",
    "\n",
    "all_files = []\n",
    "\n",
    "for integer in range(1000):\n",
    "    data = everything[integer*32000 : 32000 * (integer +1)]\n",
    "    all_files.append(data)\n",
    "    \n",
    "power_arrays = []\n",
    "\n",
    "for data in all_files:\n",
    "    real = data[:len(data)/2]\n",
    "    imag = data[len(data)/2:len(data)]\n",
    "    complex_data = real + (imag * 1j)\n",
    "    voltage = np.fft.fft(complex_data)\n",
    "    power = np.abs(voltage)**2\n",
    "    power_arrays.append(power)\n",
    "    \n",
    "avg = sum(power_arrays) / len(power_arrays)\n",
    "s_on = avg"
   ]
  },
  {
   "cell_type": "markdown",
   "metadata": {
    "collapsed": false
   },
   "source": [
    "frequency = np.fft.fftfreq(len(s_on))\n",
    "plt.plot(frequency, np.log(s_on), 'k.')\n",
    "plt.title('Average Online Spectrum (Block 1)')\n",
    "plt.xlabel('Frequency')\n",
    "plt.ylabel('Log of Power [volt-second^2]')\n",
    "plt.show()"
   ]
  },
  {
   "cell_type": "markdown",
   "metadata": {
    "collapsed": true
   },
   "source": [
    "take average power spectrum of nblocks = 1000\n",
    "\n",
    "everything = np.load('lower_block_1.npy')\n",
    "\n",
    "all_files = []\n",
    "\n",
    "for integer in range(1000):\n",
    "    data = everything[integer*32000 : 32000 * (integer +1)]\n",
    "    all_files.append(data)\n",
    "    \n",
    "power_arrays = []\n",
    "\n",
    "for data in all_files:\n",
    "    real = data[:len(data)/2]\n",
    "    imag = data[len(data)/2:len(data)]\n",
    "    complex_data = real + (imag * 1j)\n",
    "    voltage = np.fft.fft(complex_data)\n",
    "    power = np.abs(voltage)**2\n",
    "    power_arrays.append(power)\n",
    "    \n",
    "avg = sum(power_arrays) / len(power_arrays)\n",
    "s_off = avg"
   ]
  },
  {
   "cell_type": "markdown",
   "metadata": {
    "collapsed": false
   },
   "source": [
    "frequency = np.fft.fftfreq(len(s_off))\n",
    "plt.plot(frequency, np.log(s_off), 'k.')\n",
    "plt.title('Average Offline Spectrum (Block 1)')\n",
    "plt.xlabel('Frequency')\n",
    "plt.ylabel('Log of Power [volt-second^2]')\n",
    "plt.show()"
   ]
  },
  {
   "cell_type": "code",
   "execution_count": 2,
   "metadata": {
    "collapsed": true
   },
   "outputs": [],
   "source": [
    "def avg_ps(data, n):\n",
    "    \"\"\"Takes in a dualmode dataset of n blocks -- 16000 samples each -- and returns a power spectrum averaged over all blocks\"\"\"\n",
    "    \n",
    "    real = data[:len(data)/2]\n",
    "    imag = data[len(data)/2:len(data)]\n",
    "    complex_data = real + (imag * 1j)\n",
    "    voltage = np.fft.fft(complex_data)\n",
    "    power = np.abs(voltage)**2 # len = 16000n\n",
    "     \n",
    "    power_blocks = [] # total len = n, item len = 16000\n",
    "    \n",
    "    for i in range(n):\n",
    "        x = power[i * 16000 : 16000 * (i + 1)]\n",
    "        power_blocks.append(x)\n",
    "        \n",
    "    avg_power = sum(power_blocks) / len(power_blocks)\n",
    "    frequency = np.fft.fftfreq(len(avg_power))\n",
    "    return(avg_power, frequency)"
   ]
  },
  {
   "cell_type": "code",
   "execution_count": 9,
   "metadata": {
    "collapsed": false
   },
   "outputs": [
    {
     "data": {
      "application/javascript": [
       "/* Put everything inside the global mpl namespace */\n",
       "window.mpl = {};\n",
       "\n",
       "mpl.get_websocket_type = function() {\n",
       "    if (typeof(WebSocket) !== 'undefined') {\n",
       "        return WebSocket;\n",
       "    } else if (typeof(MozWebSocket) !== 'undefined') {\n",
       "        return MozWebSocket;\n",
       "    } else {\n",
       "        alert('Your browser does not have WebSocket support.' +\n",
       "              'Please try Chrome, Safari or Firefox ≥ 6. ' +\n",
       "              'Firefox 4 and 5 are also supported but you ' +\n",
       "              'have to enable WebSockets in about:config.');\n",
       "    };\n",
       "}\n",
       "\n",
       "mpl.figure = function(figure_id, websocket, ondownload, parent_element) {\n",
       "    this.id = figure_id;\n",
       "\n",
       "    this.ws = websocket;\n",
       "\n",
       "    this.supports_binary = (this.ws.binaryType != undefined);\n",
       "\n",
       "    if (!this.supports_binary) {\n",
       "        var warnings = document.getElementById(\"mpl-warnings\");\n",
       "        if (warnings) {\n",
       "            warnings.style.display = 'block';\n",
       "            warnings.textContent = (\n",
       "                \"This browser does not support binary websocket messages. \" +\n",
       "                    \"Performance may be slow.\");\n",
       "        }\n",
       "    }\n",
       "\n",
       "    this.imageObj = new Image();\n",
       "\n",
       "    this.context = undefined;\n",
       "    this.message = undefined;\n",
       "    this.canvas = undefined;\n",
       "    this.rubberband_canvas = undefined;\n",
       "    this.rubberband_context = undefined;\n",
       "    this.format_dropdown = undefined;\n",
       "\n",
       "    this.image_mode = 'full';\n",
       "\n",
       "    this.root = $('<div/>');\n",
       "    this._root_extra_style(this.root)\n",
       "    this.root.attr('style', 'display: inline-block');\n",
       "\n",
       "    $(parent_element).append(this.root);\n",
       "\n",
       "    this._init_header(this);\n",
       "    this._init_canvas(this);\n",
       "    this._init_toolbar(this);\n",
       "\n",
       "    var fig = this;\n",
       "\n",
       "    this.waiting = false;\n",
       "\n",
       "    this.ws.onopen =  function () {\n",
       "            fig.send_message(\"supports_binary\", {value: fig.supports_binary});\n",
       "            fig.send_message(\"send_image_mode\", {});\n",
       "            fig.send_message(\"refresh\", {});\n",
       "        }\n",
       "\n",
       "    this.imageObj.onload = function() {\n",
       "            if (fig.image_mode == 'full') {\n",
       "                // Full images could contain transparency (where diff images\n",
       "                // almost always do), so we need to clear the canvas so that\n",
       "                // there is no ghosting.\n",
       "                fig.context.clearRect(0, 0, fig.canvas.width, fig.canvas.height);\n",
       "            }\n",
       "            fig.context.drawImage(fig.imageObj, 0, 0);\n",
       "        };\n",
       "\n",
       "    this.imageObj.onunload = function() {\n",
       "        this.ws.close();\n",
       "    }\n",
       "\n",
       "    this.ws.onmessage = this._make_on_message_function(this);\n",
       "\n",
       "    this.ondownload = ondownload;\n",
       "}\n",
       "\n",
       "mpl.figure.prototype._init_header = function() {\n",
       "    var titlebar = $(\n",
       "        '<div class=\"ui-dialog-titlebar ui-widget-header ui-corner-all ' +\n",
       "        'ui-helper-clearfix\"/>');\n",
       "    var titletext = $(\n",
       "        '<div class=\"ui-dialog-title\" style=\"width: 100%; ' +\n",
       "        'text-align: center; padding: 3px;\"/>');\n",
       "    titlebar.append(titletext)\n",
       "    this.root.append(titlebar);\n",
       "    this.header = titletext[0];\n",
       "}\n",
       "\n",
       "\n",
       "\n",
       "mpl.figure.prototype._canvas_extra_style = function(canvas_div) {\n",
       "\n",
       "}\n",
       "\n",
       "\n",
       "mpl.figure.prototype._root_extra_style = function(canvas_div) {\n",
       "\n",
       "}\n",
       "\n",
       "mpl.figure.prototype._init_canvas = function() {\n",
       "    var fig = this;\n",
       "\n",
       "    var canvas_div = $('<div/>');\n",
       "\n",
       "    canvas_div.attr('style', 'position: relative; clear: both; outline: 0');\n",
       "\n",
       "    function canvas_keyboard_event(event) {\n",
       "        return fig.key_event(event, event['data']);\n",
       "    }\n",
       "\n",
       "    canvas_div.keydown('key_press', canvas_keyboard_event);\n",
       "    canvas_div.keyup('key_release', canvas_keyboard_event);\n",
       "    this.canvas_div = canvas_div\n",
       "    this._canvas_extra_style(canvas_div)\n",
       "    this.root.append(canvas_div);\n",
       "\n",
       "    var canvas = $('<canvas/>');\n",
       "    canvas.addClass('mpl-canvas');\n",
       "    canvas.attr('style', \"left: 0; top: 0; z-index: 0; outline: 0\")\n",
       "\n",
       "    this.canvas = canvas[0];\n",
       "    this.context = canvas[0].getContext(\"2d\");\n",
       "\n",
       "    var rubberband = $('<canvas/>');\n",
       "    rubberband.attr('style', \"position: absolute; left: 0; top: 0; z-index: 1;\")\n",
       "\n",
       "    var pass_mouse_events = true;\n",
       "\n",
       "    canvas_div.resizable({\n",
       "        start: function(event, ui) {\n",
       "            pass_mouse_events = false;\n",
       "        },\n",
       "        resize: function(event, ui) {\n",
       "            fig.request_resize(ui.size.width, ui.size.height);\n",
       "        },\n",
       "        stop: function(event, ui) {\n",
       "            pass_mouse_events = true;\n",
       "            fig.request_resize(ui.size.width, ui.size.height);\n",
       "        },\n",
       "    });\n",
       "\n",
       "    function mouse_event_fn(event) {\n",
       "        if (pass_mouse_events)\n",
       "            return fig.mouse_event(event, event['data']);\n",
       "    }\n",
       "\n",
       "    rubberband.mousedown('button_press', mouse_event_fn);\n",
       "    rubberband.mouseup('button_release', mouse_event_fn);\n",
       "    // Throttle sequential mouse events to 1 every 20ms.\n",
       "    rubberband.mousemove('motion_notify', mouse_event_fn);\n",
       "\n",
       "    rubberband.mouseenter('figure_enter', mouse_event_fn);\n",
       "    rubberband.mouseleave('figure_leave', mouse_event_fn);\n",
       "\n",
       "    canvas_div.on(\"wheel\", function (event) {\n",
       "        event = event.originalEvent;\n",
       "        event['data'] = 'scroll'\n",
       "        if (event.deltaY < 0) {\n",
       "            event.step = 1;\n",
       "        } else {\n",
       "            event.step = -1;\n",
       "        }\n",
       "        mouse_event_fn(event);\n",
       "    });\n",
       "\n",
       "    canvas_div.append(canvas);\n",
       "    canvas_div.append(rubberband);\n",
       "\n",
       "    this.rubberband = rubberband;\n",
       "    this.rubberband_canvas = rubberband[0];\n",
       "    this.rubberband_context = rubberband[0].getContext(\"2d\");\n",
       "    this.rubberband_context.strokeStyle = \"#000000\";\n",
       "\n",
       "    this._resize_canvas = function(width, height) {\n",
       "        // Keep the size of the canvas, canvas container, and rubber band\n",
       "        // canvas in synch.\n",
       "        canvas_div.css('width', width)\n",
       "        canvas_div.css('height', height)\n",
       "\n",
       "        canvas.attr('width', width);\n",
       "        canvas.attr('height', height);\n",
       "\n",
       "        rubberband.attr('width', width);\n",
       "        rubberband.attr('height', height);\n",
       "    }\n",
       "\n",
       "    // Set the figure to an initial 600x600px, this will subsequently be updated\n",
       "    // upon first draw.\n",
       "    this._resize_canvas(600, 600);\n",
       "\n",
       "    // Disable right mouse context menu.\n",
       "    $(this.rubberband_canvas).bind(\"contextmenu\",function(e){\n",
       "        return false;\n",
       "    });\n",
       "\n",
       "    function set_focus () {\n",
       "        canvas.focus();\n",
       "        canvas_div.focus();\n",
       "    }\n",
       "\n",
       "    window.setTimeout(set_focus, 100);\n",
       "}\n",
       "\n",
       "mpl.figure.prototype._init_toolbar = function() {\n",
       "    var fig = this;\n",
       "\n",
       "    var nav_element = $('<div/>')\n",
       "    nav_element.attr('style', 'width: 100%');\n",
       "    this.root.append(nav_element);\n",
       "\n",
       "    // Define a callback function for later on.\n",
       "    function toolbar_event(event) {\n",
       "        return fig.toolbar_button_onclick(event['data']);\n",
       "    }\n",
       "    function toolbar_mouse_event(event) {\n",
       "        return fig.toolbar_button_onmouseover(event['data']);\n",
       "    }\n",
       "\n",
       "    for(var toolbar_ind in mpl.toolbar_items) {\n",
       "        var name = mpl.toolbar_items[toolbar_ind][0];\n",
       "        var tooltip = mpl.toolbar_items[toolbar_ind][1];\n",
       "        var image = mpl.toolbar_items[toolbar_ind][2];\n",
       "        var method_name = mpl.toolbar_items[toolbar_ind][3];\n",
       "\n",
       "        if (!name) {\n",
       "            // put a spacer in here.\n",
       "            continue;\n",
       "        }\n",
       "        var button = $('<button/>');\n",
       "        button.addClass('ui-button ui-widget ui-state-default ui-corner-all ' +\n",
       "                        'ui-button-icon-only');\n",
       "        button.attr('role', 'button');\n",
       "        button.attr('aria-disabled', 'false');\n",
       "        button.click(method_name, toolbar_event);\n",
       "        button.mouseover(tooltip, toolbar_mouse_event);\n",
       "\n",
       "        var icon_img = $('<span/>');\n",
       "        icon_img.addClass('ui-button-icon-primary ui-icon');\n",
       "        icon_img.addClass(image);\n",
       "        icon_img.addClass('ui-corner-all');\n",
       "\n",
       "        var tooltip_span = $('<span/>');\n",
       "        tooltip_span.addClass('ui-button-text');\n",
       "        tooltip_span.html(tooltip);\n",
       "\n",
       "        button.append(icon_img);\n",
       "        button.append(tooltip_span);\n",
       "\n",
       "        nav_element.append(button);\n",
       "    }\n",
       "\n",
       "    var fmt_picker_span = $('<span/>');\n",
       "\n",
       "    var fmt_picker = $('<select/>');\n",
       "    fmt_picker.addClass('mpl-toolbar-option ui-widget ui-widget-content');\n",
       "    fmt_picker_span.append(fmt_picker);\n",
       "    nav_element.append(fmt_picker_span);\n",
       "    this.format_dropdown = fmt_picker[0];\n",
       "\n",
       "    for (var ind in mpl.extensions) {\n",
       "        var fmt = mpl.extensions[ind];\n",
       "        var option = $(\n",
       "            '<option/>', {selected: fmt === mpl.default_extension}).html(fmt);\n",
       "        fmt_picker.append(option)\n",
       "    }\n",
       "\n",
       "    // Add hover states to the ui-buttons\n",
       "    $( \".ui-button\" ).hover(\n",
       "        function() { $(this).addClass(\"ui-state-hover\");},\n",
       "        function() { $(this).removeClass(\"ui-state-hover\");}\n",
       "    );\n",
       "\n",
       "    var status_bar = $('<span class=\"mpl-message\"/>');\n",
       "    nav_element.append(status_bar);\n",
       "    this.message = status_bar[0];\n",
       "}\n",
       "\n",
       "mpl.figure.prototype.request_resize = function(x_pixels, y_pixels) {\n",
       "    // Request matplotlib to resize the figure. Matplotlib will then trigger a resize in the client,\n",
       "    // which will in turn request a refresh of the image.\n",
       "    this.send_message('resize', {'width': x_pixels, 'height': y_pixels});\n",
       "}\n",
       "\n",
       "mpl.figure.prototype.send_message = function(type, properties) {\n",
       "    properties['type'] = type;\n",
       "    properties['figure_id'] = this.id;\n",
       "    this.ws.send(JSON.stringify(properties));\n",
       "}\n",
       "\n",
       "mpl.figure.prototype.send_draw_message = function() {\n",
       "    if (!this.waiting) {\n",
       "        this.waiting = true;\n",
       "        this.ws.send(JSON.stringify({type: \"draw\", figure_id: this.id}));\n",
       "    }\n",
       "}\n",
       "\n",
       "\n",
       "mpl.figure.prototype.handle_save = function(fig, msg) {\n",
       "    var format_dropdown = fig.format_dropdown;\n",
       "    var format = format_dropdown.options[format_dropdown.selectedIndex].value;\n",
       "    fig.ondownload(fig, format);\n",
       "}\n",
       "\n",
       "\n",
       "mpl.figure.prototype.handle_resize = function(fig, msg) {\n",
       "    var size = msg['size'];\n",
       "    if (size[0] != fig.canvas.width || size[1] != fig.canvas.height) {\n",
       "        fig._resize_canvas(size[0], size[1]);\n",
       "        fig.send_message(\"refresh\", {});\n",
       "    };\n",
       "}\n",
       "\n",
       "mpl.figure.prototype.handle_rubberband = function(fig, msg) {\n",
       "    var x0 = msg['x0'];\n",
       "    var y0 = fig.canvas.height - msg['y0'];\n",
       "    var x1 = msg['x1'];\n",
       "    var y1 = fig.canvas.height - msg['y1'];\n",
       "    x0 = Math.floor(x0) + 0.5;\n",
       "    y0 = Math.floor(y0) + 0.5;\n",
       "    x1 = Math.floor(x1) + 0.5;\n",
       "    y1 = Math.floor(y1) + 0.5;\n",
       "    var min_x = Math.min(x0, x1);\n",
       "    var min_y = Math.min(y0, y1);\n",
       "    var width = Math.abs(x1 - x0);\n",
       "    var height = Math.abs(y1 - y0);\n",
       "\n",
       "    fig.rubberband_context.clearRect(\n",
       "        0, 0, fig.canvas.width, fig.canvas.height);\n",
       "\n",
       "    fig.rubberband_context.strokeRect(min_x, min_y, width, height);\n",
       "}\n",
       "\n",
       "mpl.figure.prototype.handle_figure_label = function(fig, msg) {\n",
       "    // Updates the figure title.\n",
       "    fig.header.textContent = msg['label'];\n",
       "}\n",
       "\n",
       "mpl.figure.prototype.handle_cursor = function(fig, msg) {\n",
       "    var cursor = msg['cursor'];\n",
       "    switch(cursor)\n",
       "    {\n",
       "    case 0:\n",
       "        cursor = 'pointer';\n",
       "        break;\n",
       "    case 1:\n",
       "        cursor = 'default';\n",
       "        break;\n",
       "    case 2:\n",
       "        cursor = 'crosshair';\n",
       "        break;\n",
       "    case 3:\n",
       "        cursor = 'move';\n",
       "        break;\n",
       "    }\n",
       "    fig.rubberband_canvas.style.cursor = cursor;\n",
       "}\n",
       "\n",
       "mpl.figure.prototype.handle_message = function(fig, msg) {\n",
       "    fig.message.textContent = msg['message'];\n",
       "}\n",
       "\n",
       "mpl.figure.prototype.handle_draw = function(fig, msg) {\n",
       "    // Request the server to send over a new figure.\n",
       "    fig.send_draw_message();\n",
       "}\n",
       "\n",
       "mpl.figure.prototype.handle_image_mode = function(fig, msg) {\n",
       "    fig.image_mode = msg['mode'];\n",
       "}\n",
       "\n",
       "mpl.figure.prototype.updated_canvas_event = function() {\n",
       "    // Called whenever the canvas gets updated.\n",
       "    this.send_message(\"ack\", {});\n",
       "}\n",
       "\n",
       "// A function to construct a web socket function for onmessage handling.\n",
       "// Called in the figure constructor.\n",
       "mpl.figure.prototype._make_on_message_function = function(fig) {\n",
       "    return function socket_on_message(evt) {\n",
       "        if (evt.data instanceof Blob) {\n",
       "            /* FIXME: We get \"Resource interpreted as Image but\n",
       "             * transferred with MIME type text/plain:\" errors on\n",
       "             * Chrome.  But how to set the MIME type?  It doesn't seem\n",
       "             * to be part of the websocket stream */\n",
       "            evt.data.type = \"image/png\";\n",
       "\n",
       "            /* Free the memory for the previous frames */\n",
       "            if (fig.imageObj.src) {\n",
       "                (window.URL || window.webkitURL).revokeObjectURL(\n",
       "                    fig.imageObj.src);\n",
       "            }\n",
       "\n",
       "            fig.imageObj.src = (window.URL || window.webkitURL).createObjectURL(\n",
       "                evt.data);\n",
       "            fig.updated_canvas_event();\n",
       "            fig.waiting = false;\n",
       "            return;\n",
       "        }\n",
       "        else if (typeof evt.data === 'string' && evt.data.slice(0, 21) == \"data:image/png;base64\") {\n",
       "            fig.imageObj.src = evt.data;\n",
       "            fig.updated_canvas_event();\n",
       "            fig.waiting = false;\n",
       "            return;\n",
       "        }\n",
       "\n",
       "        var msg = JSON.parse(evt.data);\n",
       "        var msg_type = msg['type'];\n",
       "\n",
       "        // Call the  \"handle_{type}\" callback, which takes\n",
       "        // the figure and JSON message as its only arguments.\n",
       "        try {\n",
       "            var callback = fig[\"handle_\" + msg_type];\n",
       "        } catch (e) {\n",
       "            console.log(\"No handler for the '\" + msg_type + \"' message type: \", msg);\n",
       "            return;\n",
       "        }\n",
       "\n",
       "        if (callback) {\n",
       "            try {\n",
       "                // console.log(\"Handling '\" + msg_type + \"' message: \", msg);\n",
       "                callback(fig, msg);\n",
       "            } catch (e) {\n",
       "                console.log(\"Exception inside the 'handler_\" + msg_type + \"' callback:\", e, e.stack, msg);\n",
       "            }\n",
       "        }\n",
       "    };\n",
       "}\n",
       "\n",
       "// from http://stackoverflow.com/questions/1114465/getting-mouse-location-in-canvas\n",
       "mpl.findpos = function(e) {\n",
       "    //this section is from http://www.quirksmode.org/js/events_properties.html\n",
       "    var targ;\n",
       "    if (!e)\n",
       "        e = window.event;\n",
       "    if (e.target)\n",
       "        targ = e.target;\n",
       "    else if (e.srcElement)\n",
       "        targ = e.srcElement;\n",
       "    if (targ.nodeType == 3) // defeat Safari bug\n",
       "        targ = targ.parentNode;\n",
       "\n",
       "    // jQuery normalizes the pageX and pageY\n",
       "    // pageX,Y are the mouse positions relative to the document\n",
       "    // offset() returns the position of the element relative to the document\n",
       "    var x = e.pageX - $(targ).offset().left;\n",
       "    var y = e.pageY - $(targ).offset().top;\n",
       "\n",
       "    return {\"x\": x, \"y\": y};\n",
       "};\n",
       "\n",
       "/*\n",
       " * return a copy of an object with only non-object keys\n",
       " * we need this to avoid circular references\n",
       " * http://stackoverflow.com/a/24161582/3208463\n",
       " */\n",
       "function simpleKeys (original) {\n",
       "  return Object.keys(original).reduce(function (obj, key) {\n",
       "    if (typeof original[key] !== 'object')\n",
       "        obj[key] = original[key]\n",
       "    return obj;\n",
       "  }, {});\n",
       "}\n",
       "\n",
       "mpl.figure.prototype.mouse_event = function(event, name) {\n",
       "    var canvas_pos = mpl.findpos(event)\n",
       "\n",
       "    if (name === 'button_press')\n",
       "    {\n",
       "        this.canvas.focus();\n",
       "        this.canvas_div.focus();\n",
       "    }\n",
       "\n",
       "    var x = canvas_pos.x;\n",
       "    var y = canvas_pos.y;\n",
       "\n",
       "    this.send_message(name, {x: x, y: y, button: event.button,\n",
       "                             step: event.step,\n",
       "                             guiEvent: simpleKeys(event)});\n",
       "\n",
       "    /* This prevents the web browser from automatically changing to\n",
       "     * the text insertion cursor when the button is pressed.  We want\n",
       "     * to control all of the cursor setting manually through the\n",
       "     * 'cursor' event from matplotlib */\n",
       "    event.preventDefault();\n",
       "    return false;\n",
       "}\n",
       "\n",
       "mpl.figure.prototype._key_event_extra = function(event, name) {\n",
       "    // Handle any extra behaviour associated with a key event\n",
       "}\n",
       "\n",
       "mpl.figure.prototype.key_event = function(event, name) {\n",
       "\n",
       "    // Prevent repeat events\n",
       "    if (name == 'key_press')\n",
       "    {\n",
       "        if (event.which === this._key)\n",
       "            return;\n",
       "        else\n",
       "            this._key = event.which;\n",
       "    }\n",
       "    if (name == 'key_release')\n",
       "        this._key = null;\n",
       "\n",
       "    var value = '';\n",
       "    if (event.ctrlKey && event.which != 17)\n",
       "        value += \"ctrl+\";\n",
       "    if (event.altKey && event.which != 18)\n",
       "        value += \"alt+\";\n",
       "    if (event.shiftKey && event.which != 16)\n",
       "        value += \"shift+\";\n",
       "\n",
       "    value += 'k';\n",
       "    value += event.which.toString();\n",
       "\n",
       "    this._key_event_extra(event, name);\n",
       "\n",
       "    this.send_message(name, {key: value,\n",
       "                             guiEvent: simpleKeys(event)});\n",
       "    return false;\n",
       "}\n",
       "\n",
       "mpl.figure.prototype.toolbar_button_onclick = function(name) {\n",
       "    if (name == 'download') {\n",
       "        this.handle_save(this, null);\n",
       "    } else {\n",
       "        this.send_message(\"toolbar_button\", {name: name});\n",
       "    }\n",
       "};\n",
       "\n",
       "mpl.figure.prototype.toolbar_button_onmouseover = function(tooltip) {\n",
       "    this.message.textContent = tooltip;\n",
       "};\n",
       "mpl.toolbar_items = [[\"Home\", \"Reset original view\", \"fa fa-home icon-home\", \"home\"], [\"Back\", \"Back to  previous view\", \"fa fa-arrow-left icon-arrow-left\", \"back\"], [\"Forward\", \"Forward to next view\", \"fa fa-arrow-right icon-arrow-right\", \"forward\"], [\"\", \"\", \"\", \"\"], [\"Pan\", \"Pan axes with left mouse, zoom with right\", \"fa fa-arrows icon-move\", \"pan\"], [\"Zoom\", \"Zoom to rectangle\", \"fa fa-square-o icon-check-empty\", \"zoom\"], [\"\", \"\", \"\", \"\"], [\"Download\", \"Download plot\", \"fa fa-floppy-o icon-save\", \"download\"]];\n",
       "\n",
       "mpl.extensions = [\"eps\", \"jpeg\", \"pdf\", \"png\", \"ps\", \"raw\", \"svg\", \"tif\"];\n",
       "\n",
       "mpl.default_extension = \"png\";var comm_websocket_adapter = function(comm) {\n",
       "    // Create a \"websocket\"-like object which calls the given IPython comm\n",
       "    // object with the appropriate methods. Currently this is a non binary\n",
       "    // socket, so there is still some room for performance tuning.\n",
       "    var ws = {};\n",
       "\n",
       "    ws.close = function() {\n",
       "        comm.close()\n",
       "    };\n",
       "    ws.send = function(m) {\n",
       "        //console.log('sending', m);\n",
       "        comm.send(m);\n",
       "    };\n",
       "    // Register the callback with on_msg.\n",
       "    comm.on_msg(function(msg) {\n",
       "        //console.log('receiving', msg['content']['data'], msg);\n",
       "        // Pass the mpl event to the overriden (by mpl) onmessage function.\n",
       "        ws.onmessage(msg['content']['data'])\n",
       "    });\n",
       "    return ws;\n",
       "}\n",
       "\n",
       "mpl.mpl_figure_comm = function(comm, msg) {\n",
       "    // This is the function which gets called when the mpl process\n",
       "    // starts-up an IPython Comm through the \"matplotlib\" channel.\n",
       "\n",
       "    var id = msg.content.data.id;\n",
       "    // Get hold of the div created by the display call when the Comm\n",
       "    // socket was opened in Python.\n",
       "    var element = $(\"#\" + id);\n",
       "    var ws_proxy = comm_websocket_adapter(comm)\n",
       "\n",
       "    function ondownload(figure, format) {\n",
       "        window.open(figure.imageObj.src);\n",
       "    }\n",
       "\n",
       "    var fig = new mpl.figure(id, ws_proxy,\n",
       "                           ondownload,\n",
       "                           element.get(0));\n",
       "\n",
       "    // Call onopen now - mpl needs it, as it is assuming we've passed it a real\n",
       "    // web socket which is closed, not our websocket->open comm proxy.\n",
       "    ws_proxy.onopen();\n",
       "\n",
       "    fig.parent_element = element.get(0);\n",
       "    fig.cell_info = mpl.find_output_cell(\"<div id='\" + id + \"'></div>\");\n",
       "    if (!fig.cell_info) {\n",
       "        console.error(\"Failed to find cell for figure\", id, fig);\n",
       "        return;\n",
       "    }\n",
       "\n",
       "    var output_index = fig.cell_info[2]\n",
       "    var cell = fig.cell_info[0];\n",
       "\n",
       "};\n",
       "\n",
       "mpl.figure.prototype.handle_close = function(fig, msg) {\n",
       "    fig.root.unbind('remove')\n",
       "\n",
       "    // Update the output cell to use the data from the current canvas.\n",
       "    fig.push_to_output();\n",
       "    var dataURL = fig.canvas.toDataURL();\n",
       "    // Re-enable the keyboard manager in IPython - without this line, in FF,\n",
       "    // the notebook keyboard shortcuts fail.\n",
       "    IPython.keyboard_manager.enable()\n",
       "    $(fig.parent_element).html('<img src=\"' + dataURL + '\">');\n",
       "    fig.close_ws(fig, msg);\n",
       "}\n",
       "\n",
       "mpl.figure.prototype.close_ws = function(fig, msg){\n",
       "    fig.send_message('closing', msg);\n",
       "    // fig.ws.close()\n",
       "}\n",
       "\n",
       "mpl.figure.prototype.push_to_output = function(remove_interactive) {\n",
       "    // Turn the data on the canvas into data in the output cell.\n",
       "    var dataURL = this.canvas.toDataURL();\n",
       "    this.cell_info[1]['text/html'] = '<img src=\"' + dataURL + '\">';\n",
       "}\n",
       "\n",
       "mpl.figure.prototype.updated_canvas_event = function() {\n",
       "    // Tell IPython that the notebook contents must change.\n",
       "    IPython.notebook.set_dirty(true);\n",
       "    this.send_message(\"ack\", {});\n",
       "    var fig = this;\n",
       "    // Wait a second, then push the new image to the DOM so\n",
       "    // that it is saved nicely (might be nice to debounce this).\n",
       "    setTimeout(function () { fig.push_to_output() }, 1000);\n",
       "}\n",
       "\n",
       "mpl.figure.prototype._init_toolbar = function() {\n",
       "    var fig = this;\n",
       "\n",
       "    var nav_element = $('<div/>')\n",
       "    nav_element.attr('style', 'width: 100%');\n",
       "    this.root.append(nav_element);\n",
       "\n",
       "    // Define a callback function for later on.\n",
       "    function toolbar_event(event) {\n",
       "        return fig.toolbar_button_onclick(event['data']);\n",
       "    }\n",
       "    function toolbar_mouse_event(event) {\n",
       "        return fig.toolbar_button_onmouseover(event['data']);\n",
       "    }\n",
       "\n",
       "    for(var toolbar_ind in mpl.toolbar_items){\n",
       "        var name = mpl.toolbar_items[toolbar_ind][0];\n",
       "        var tooltip = mpl.toolbar_items[toolbar_ind][1];\n",
       "        var image = mpl.toolbar_items[toolbar_ind][2];\n",
       "        var method_name = mpl.toolbar_items[toolbar_ind][3];\n",
       "\n",
       "        if (!name) { continue; };\n",
       "\n",
       "        var button = $('<button class=\"btn btn-default\" href=\"#\" title=\"' + name + '\"><i class=\"fa ' + image + ' fa-lg\"></i></button>');\n",
       "        button.click(method_name, toolbar_event);\n",
       "        button.mouseover(tooltip, toolbar_mouse_event);\n",
       "        nav_element.append(button);\n",
       "    }\n",
       "\n",
       "    // Add the status bar.\n",
       "    var status_bar = $('<span class=\"mpl-message\" style=\"text-align:right; float: right;\"/>');\n",
       "    nav_element.append(status_bar);\n",
       "    this.message = status_bar[0];\n",
       "\n",
       "    // Add the close button to the window.\n",
       "    var buttongrp = $('<div class=\"btn-group inline pull-right\"></div>');\n",
       "    var button = $('<button class=\"btn btn-mini btn-primary\" href=\"#\" title=\"Stop Interaction\"><i class=\"fa fa-power-off icon-remove icon-large\"></i></button>');\n",
       "    button.click(function (evt) { fig.handle_close(fig, {}); } );\n",
       "    button.mouseover('Stop Interaction', toolbar_mouse_event);\n",
       "    buttongrp.append(button);\n",
       "    var titlebar = this.root.find($('.ui-dialog-titlebar'));\n",
       "    titlebar.prepend(buttongrp);\n",
       "}\n",
       "\n",
       "mpl.figure.prototype._root_extra_style = function(el){\n",
       "    var fig = this\n",
       "    el.on(\"remove\", function(){\n",
       "\tfig.close_ws(fig, {});\n",
       "    });\n",
       "}\n",
       "\n",
       "mpl.figure.prototype._canvas_extra_style = function(el){\n",
       "    // this is important to make the div 'focusable\n",
       "    el.attr('tabindex', 0)\n",
       "    // reach out to IPython and tell the keyboard manager to turn it's self\n",
       "    // off when our div gets focus\n",
       "\n",
       "    // location in version 3\n",
       "    if (IPython.notebook.keyboard_manager) {\n",
       "        IPython.notebook.keyboard_manager.register_events(el);\n",
       "    }\n",
       "    else {\n",
       "        // location in version 2\n",
       "        IPython.keyboard_manager.register_events(el);\n",
       "    }\n",
       "\n",
       "}\n",
       "\n",
       "mpl.figure.prototype._key_event_extra = function(event, name) {\n",
       "    var manager = IPython.notebook.keyboard_manager;\n",
       "    if (!manager)\n",
       "        manager = IPython.keyboard_manager;\n",
       "\n",
       "    // Check for shift+enter\n",
       "    if (event.shiftKey && event.which == 13) {\n",
       "        this.canvas_div.blur();\n",
       "        event.shiftKey = false;\n",
       "        // Send a \"J\" for go to next cell\n",
       "        event.which = 74;\n",
       "        event.keyCode = 74;\n",
       "        manager.command_mode();\n",
       "        manager.handle_keydown(event);\n",
       "    }\n",
       "}\n",
       "\n",
       "mpl.figure.prototype.handle_save = function(fig, msg) {\n",
       "    fig.ondownload(fig, null);\n",
       "}\n",
       "\n",
       "\n",
       "mpl.find_output_cell = function(html_output) {\n",
       "    // Return the cell and output element which can be found *uniquely* in the notebook.\n",
       "    // Note - this is a bit hacky, but it is done because the \"notebook_saving.Notebook\"\n",
       "    // IPython event is triggered only after the cells have been serialised, which for\n",
       "    // our purposes (turning an active figure into a static one), is too late.\n",
       "    var cells = IPython.notebook.get_cells();\n",
       "    var ncells = cells.length;\n",
       "    for (var i=0; i<ncells; i++) {\n",
       "        var cell = cells[i];\n",
       "        if (cell.cell_type === 'code'){\n",
       "            for (var j=0; j<cell.output_area.outputs.length; j++) {\n",
       "                var data = cell.output_area.outputs[j];\n",
       "                if (data.data) {\n",
       "                    // IPython >= 3 moved mimebundle to data attribute of output\n",
       "                    data = data.data;\n",
       "                }\n",
       "                if (data['text/html'] == html_output) {\n",
       "                    return [cell, data, j];\n",
       "                }\n",
       "            }\n",
       "        }\n",
       "    }\n",
       "}\n",
       "\n",
       "// Register the function which deals with the matplotlib target/channel.\n",
       "// The kernel may be null if the page has been refreshed.\n",
       "if (IPython.notebook.kernel != null) {\n",
       "    IPython.notebook.kernel.comm_manager.register_target('matplotlib', mpl.mpl_figure_comm);\n",
       "}\n"
      ],
      "text/plain": [
       "<IPython.core.display.Javascript object>"
      ]
     },
     "metadata": {},
     "output_type": "display_data"
    },
    {
     "data": {
      "text/html": [
       "<img src=\"data:image/png;base64,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\">"
      ],
      "text/plain": [
       "<IPython.core.display.HTML object>"
      ]
     },
     "metadata": {},
     "output_type": "display_data"
    }
   ],
   "source": [
    "data = np.load('upper_block_1.npy')\n",
    "power, freq = avg_ps(data, 1000)\n",
    "plt.plot(freq, power)\n",
    "plt.title('Average Upper Power Spectrum (Dataset 1)')\n",
    "plt.xlabel('Frequency')\n",
    "plt.ylabel('Power [volt-second^2]')\n",
    "plt.show()"
   ]
  },
  {
   "cell_type": "markdown",
   "metadata": {},
   "source": [
    "### Changing second LO\n",
    "\n",
    "LO for upper baseband = 191 MHz\n",
    "\n",
    "LO for lower baseband = 189 MHz"
   ]
  },
  {
   "cell_type": "markdown",
   "metadata": {},
   "source": [
    "x = ugradio.pico.capture_data('50mV', divisor=8, dual_mode=True, nsamples=16000, nblocks=1000)\n",
    "\n",
    "np.save('upper-n', x)\n",
    "\n",
    "Took data 10 times resulting in 10,000 total blocks. Repeated for lower."
   ]
  },
  {
   "cell_type": "code",
   "execution_count": null,
   "metadata": {
    "collapsed": false
   },
   "outputs": [],
   "source": [
    "data1 = np.load('upper-1.npy')\n",
    "power1, freq1 = avg_ps(data1, 1000)"
   ]
  },
  {
   "cell_type": "code",
   "execution_count": null,
   "metadata": {
    "collapsed": true
   },
   "outputs": [],
   "source": [
    "plt.plot(freq1, power1)\n",
    "plt.title('Average Upper Power Spectrum')\n",
    "plt.xlabel('Frequency')\n",
    "plt.ylabel('Power [volt-second^2]')\n",
    "plt.show()"
   ]
  },
  {
   "cell_type": "markdown",
   "metadata": {},
   "source": [
    "## Line Shape"
   ]
  },
  {
   "cell_type": "code",
   "execution_count": 36,
   "metadata": {
    "collapsed": true
   },
   "outputs": [],
   "source": [
    "s_line = s_on/s_off"
   ]
  },
  {
   "cell_type": "code",
   "execution_count": 51,
   "metadata": {
    "collapsed": false
   },
   "outputs": [
    {
     "data": {
      "image/png": "[encoded data removed]",
      "text/plain": [
       "<matplotlib.figure.Figure at 0x7f9ecaf02d10>"
      ]
     },
     "metadata": {},
     "output_type": "display_data"
    }
   ],
   "source": [
    "frequency = np.fft.fftfreq(len(s_line))\n",
    "plt.plot(frequency, s_line, 'k.')\n",
    "plt.title('Line Shape')\n",
    "plt.ylabel('Power [volt-second^2]')\n",
    "plt.xlabel('Frequency')\n",
    "plt.show()"
   ]
  },
  {
   "cell_type": "markdown",
   "metadata": {},
   "source": [
    "## Line Intensity"
   ]
  },
  {
   "cell_type": "code",
   "execution_count": 15,
   "metadata": {
    "collapsed": true
   },
   "outputs": [],
   "source": [
    "T_cold = 3 # K\n",
    "T_cal = 300 # K"
   ]
  },
  {
   "cell_type": "code",
   "execution_count": 48,
   "metadata": {
    "collapsed": false
   },
   "outputs": [
    {
     "data": {
      "image/png": "[encoded data removed]",
      "text/plain": [
       "<matplotlib.figure.Figure at 0x7f9ecad44810>"
      ]
     },
     "metadata": {},
     "output_type": "display_data"
    },
    {
     "data": {
      "text/plain": [
       "<matplotlib.text.Text at 0x7f9ecb20f390>"
      ]
     },
     "execution_count": 48,
     "metadata": {},
     "output_type": "execute_result"
    }
   ],
   "source": [
    "cold = np.loadtxt('sCold-2-24-19.txt')\n",
    "PS(cold, 8)\n",
    "plt.title('Sky pspec')"
   ]
  },
  {
   "cell_type": "code",
   "execution_count": 45,
   "metadata": {
    "collapsed": false
   },
   "outputs": [
    {
     "data": {
      "image/png": "[encoded data removed]",
      "text/plain": [
       "<matplotlib.figure.Figure at 0x7f9ecb05cd90>"
      ]
     },
     "metadata": {},
     "output_type": "display_data"
    }
   ],
   "source": [
    "cal = np.loadtxt('sPerson-2-24-19.txt')\n",
    "PS(cal, 8)\n",
    "plt.title('Person pspec')"
   ]
  },
  {
   "cell_type": "code",
   "execution_count": 17,
   "metadata": {
    "collapsed": false
   },
   "outputs": [],
   "source": [
    "Vsamp = 62.5/8\n",
    "N = 16000\n",
    "time = np.linspace(-N/(2*Vsamp),(N/2-1)/Vsamp,N)\n",
    "\n",
    "cold = np.loadtxt('sCold-2-24-19.txt')\n",
    "a_cold = cold[:len(cold)/2]\n",
    "b_cold = cold[len(cold)/2:]\n",
    "c_cold = a_cold + b_cold * 1j\n",
    "f,fx = ugradio.dft.dft(c_cold[:N],t=time, vsamp=Vsamp)\n",
    "P_cold = np.abs(fx)**2\n",
    "\n",
    "cal = np.loadtxt('sPerson-2-24-19.txt')\n",
    "a_cal = cal[:len(cal)/2]\n",
    "b_cal = cal[len(cal)/2:]\n",
    "c_cal = a_cal + b_cal * 1j\n",
    "f,fx = ugradio.dft.dft(c_cal[:N],t=time, vsamp=Vsamp)\n",
    "P_cal = np.abs(fx)**2"
   ]
  },
  {
   "cell_type": "code",
   "execution_count": 39,
   "metadata": {
    "collapsed": false
   },
   "outputs": [
    {
     "data": {
      "image/png": "[encoded data removed]",
      "text/plain": [
       "<matplotlib.figure.Figure at 0x7f9ecad4ca90>"
      ]
     },
     "metadata": {},
     "output_type": "display_data"
    }
   ],
   "source": [
    "plt.plot(f, P_cal-P_cold)\n",
    "plt.title('Person - Sky')\n",
    "plt.show()"
   ]
  },
  {
   "cell_type": "code",
   "execution_count": 19,
   "metadata": {
    "collapsed": false
   },
   "outputs": [
    {
     "name": "stdout",
     "output_type": "stream",
     "text": [
      "126.34495924\n"
     ]
    }
   ],
   "source": [
    "# obtain gain\n",
    "\n",
    "G = (T_cal - T_cold)/(np.sum(P_cal - P_cold)) * np.sum(P_cold)\n",
    "print(G)"
   ]
  },
  {
   "cell_type": "code",
   "execution_count": 46,
   "metadata": {
    "collapsed": false
   },
   "outputs": [],
   "source": [
    "T_line = s_line * G"
   ]
  },
  {
   "cell_type": "markdown",
   "metadata": {},
   "source": [
    "## Plot Intensity vs. Frequency -- and Velocity"
   ]
  },
  {
   "cell_type": "code",
   "execution_count": 47,
   "metadata": {
    "collapsed": false,
    "scrolled": true
   },
   "outputs": [
    {
     "data": {
      "image/png": "[encoded data removed]",
      "text/plain": [
       "<matplotlib.figure.Figure at 0x7f9ecad5c8d0>"
      ]
     },
     "metadata": {},
     "output_type": "display_data"
    }
   ],
   "source": [
    "frequency = np.fft.fftfreq(len(T_line))\n",
    "plt.plot(frequency, T_line, 'k.')\n",
    "plt.title('Intensity vs. Frequency')\n",
    "plt.show()"
   ]
  },
  {
   "cell_type": "markdown",
   "metadata": {},
   "source": [
    "## Doppler Correction"
   ]
  },
  {
   "cell_type": "markdown",
   "metadata": {},
   "source": [
    "ugradio.doppler.get_projected_velocity(ra, dec, jd, obs_lat=37.873199, obs_lon=-122.257063, obs_alt=120.0, epoch=2451545.0)\n",
    "\n",
    "get_projected_velocity(ra, dec, jd, obs_lat=nch.lat, obs_lon=nch.lon, \n",
    "        obs_alt=nch.alt, epoch=2451545.):\n",
    "    '''Compute the projected velocity of the telescope wrt the \n",
    "    Local Standard of Rest.\n",
    "    Parameters\n",
    "    ----------\n",
    "    ra, dec : float degrees, the RA/DEC of target\n",
    "    jd      : float, julian date (UTC) of the observation\n",
    "    obs_lat : float degrees, latitude of observatory, default=nch.lat\n",
    "    obs_lon : float degrees, longitude of observatory, default=nch.lon\n",
    "    obs_alt : float meters, altitude of observatory, default=nch.alt\n",
    "    epoch   : float, julian date epoch of ra/dec coordinates\n",
    "              default=2451545 is J2000\n",
    "\n",
    "    Returns\n",
    "    -------\n",
    "    v : float m/s, barycenter-corrected radial velocity,\n",
    "        see (Wright & Eastman, 2014) '''"
   ]
  },
  {
   "cell_type": "code",
   "execution_count": 23,
   "metadata": {
    "collapsed": false
   },
   "outputs": [
    {
     "name": "stdout",
     "output_type": "stream",
     "text": [
      "Downloading http://naif.jpl.nasa.gov/pub/naif/generic_kernels/spk/planets/de430.bsp [Done]\n",
      "[-16861.65812534]\n"
     ]
    }
   ],
   "source": [
    "# data taken changing first LO\n",
    "\n",
    "lat = 37.873199 # for Campbell Hall\n",
    "\n",
    "jd = 2458539.451389 # 22:50 UTC (14:50 PST), 2/24/2019\n",
    "lst = ugradio.timing.lst(jd)\n",
    "\n",
    "v = ugradio.doppler.get_projected_velocity(ra=lst, dec=lat, jd=jd) \n",
    "print(v)"
   ]
  },
  {
   "cell_type": "code",
   "execution_count": 22,
   "metadata": {
    "collapsed": false
   },
   "outputs": [
    {
     "name": "stdout",
     "output_type": "stream",
     "text": [
      "[-17711.16423106]\n"
     ]
    }
   ],
   "source": [
    "# data taken changing second LO\n",
    "\n",
    "lat = 37.873199 # for Campbell Hall\n",
    "\n",
    "jd = ugradio.timing.julian_date() # 20:42 UTC (12:42 PST), 2/27/2019\n",
    "lst = ugradio.timing.lst()\n",
    "\n",
    "v = ugradio.doppler.get_projected_velocity(ra=lst, dec=lat, jd=jd) \n",
    "print(v)"
   ]
  },
  {
   "cell_type": "code",
   "execution_count": 28,
   "metadata": {
    "collapsed": false
   },
   "outputs": [
    {
     "name": "stdout",
     "output_type": "stream",
     "text": [
      "[ 83.91485418]\n"
     ]
    }
   ],
   "source": [
    "# frequency offset\n",
    "\n",
    "c = 299792.458 #km/s\n",
    "f_0 = 1420.4058 # MHz\n",
    "f = - f_0 * (v / c)\n",
    "print(f)"
   ]
  },
  {
   "cell_type": "code",
   "execution_count": null,
   "metadata": {
    "collapsed": true
   },
   "outputs": [],
   "source": []
  }
 ],
 "metadata": {
  "kernelspec": {
   "display_name": "Python 2",
   "language": "python",
   "name": "python2"
  },
  "language_info": {
   "codemirror_mode": {
    "name": "ipython",
    "version": 2
   },
   "file_extension": ".py",
   "mimetype": "text/x-python",
   "name": "python",
   "nbconvert_exporter": "python",
   "pygments_lexer": "ipython2",
   "version": "2.7.12"
  }
 },
 "nbformat": 4,
 "nbformat_minor": 1
}
