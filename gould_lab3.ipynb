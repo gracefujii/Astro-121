{
 "cells": [
  {
   "cell_type": "markdown",
   "metadata": {},
   "source": [
    "## Lab 3: RADIO INTERFEROMETRY AT X BAND"
   ]
  },
  {
   "cell_type": "code",
   "execution_count": 3,
   "metadata": {
    "collapsed": true
   },
   "outputs": [],
   "source": [
    "import ugradio\n",
    "import numpy as np\n",
    "import matplotlib.pyplot as plt"
   ]
  },
  {
   "cell_type": "markdown",
   "metadata": {},
   "source": [
    "### Week One\n",
    "#### Rotation matrix for timing locations\n",
    "Each group uses rotation matrices to calculate when objects of interest are up. \n",
    "\n",
    "#### Solar Fringes\n",
    "Observe the Sun for a short time to confirm that it sees fringes. \n",
    "\n",
    "#### Observe a point source\n",
    "Each group does a horizon-to-horizon observation of a point source, which requires writing an observing script to run automatically. \n",
    "\n",
    "#### Power spectra\n",
    "Each person calculates Fourier power spectra of the Sun data and also the point-source data.\n",
    "\n",
    "#### Compare to expected fringe frequencies\n",
    "She/He calculates the range of expected local fringe frequencies (equation 14) and compares the observed spectra with these expectations. Be ready for show and tell!"
   ]
  },
  {
   "cell_type": "markdown",
   "metadata": {},
   "source": [
    "### 8.1. Getting the Data\n",
    "FIRST WEEK: Before doing the weak sources in the Table, do the Sun for a much shorter time, say an hour. This will give you confidence that the system works (or so we hope). There should be an easily-recognizable signal that you can look at visually, think about, and derive the\n",
    "approximate declination with pencil and paper. Then later you can write software to do the same, and make sure you get the right answer. Also, during this first week, do the horizon-to-horizon track of one of the sources from the Table."
   ]
  },
  {
   "cell_type": "markdown",
   "metadata": {},
   "source": [
    "### 8.2. The Fringe"
   ]
  },
  {
   "cell_type": "code",
   "execution_count": 2,
   "metadata": {
    "collapsed": false
   },
   "outputs": [],
   "source": [
    "ugradio.timing.julian_date??"
   ]
  },
  {
   "cell_type": "code",
   "execution_count": null,
   "metadata": {
    "collapsed": true
   },
   "outputs": [],
   "source": []
  }
 ],
 "metadata": {
  "kernelspec": {
   "display_name": "Python 2",
   "language": "python",
   "name": "python2"
  },
  "language_info": {
   "codemirror_mode": {
    "name": "ipython",
    "version": 2
   },
   "file_extension": ".py",
   "mimetype": "text/x-python",
   "name": "python",
   "nbconvert_exporter": "python",
   "pygments_lexer": "ipython2",
   "version": "2.7.12"
  }
 },
 "nbformat": 4,
 "nbformat_minor": 1
}
